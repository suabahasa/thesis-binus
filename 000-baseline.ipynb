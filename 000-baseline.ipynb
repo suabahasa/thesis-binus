{
 "cells": [
  {
   "cell_type": "code",
   "execution_count": null,
   "metadata": {},
   "outputs": [
    {
     "name": "stderr",
     "output_type": "stream",
     "text": [
      "/Users/siagian/workspace/thesis/.venv/lib/python3.9/site-packages/urllib3/__init__.py:35: NotOpenSSLWarning: urllib3 v2 only supports OpenSSL 1.1.1+, currently the 'ssl' module is compiled with 'LibreSSL 2.8.3'. See: https://github.com/urllib3/urllib3/issues/3020\n",
      "  warnings.warn(\n"
     ]
    }
   ],
   "source": [
    "import os, sys\n",
    "import torch\n",
    "import numpy as np\n",
    "import pandas as pd\n",
    "from datasets import load_dataset\n",
    "import json\n",
    "import re\n",
    "\n",
    "import nltk\n",
    "import evaluate\n",
    "from transformers import DataCollatorForSeq2Seq, AutoTokenizer\n",
    "from transformers import AutoModelForSeq2SeqLM, Seq2SeqTrainingArguments, Seq2SeqTrainer\n",
    "from transformers import pipeline\n",
    "from transformers import BertTokenizer, AutoModel\n",
    "\n",
    "from Sastrawi.StopWordRemover.StopWordRemoverFactory import StopWordRemoverFactory\n",
    "\n",
    "from repo.indobenchmark.toolkit.tokenization_indonlg import IndoNLGTokenizer"
   ]
  },
  {
   "cell_type": "code",
   "execution_count": 2,
   "metadata": {},
   "outputs": [
    {
     "name": "stdout",
     "output_type": "stream",
     "text": [
      "using mps\n"
     ]
    }
   ],
   "source": [
    "# check if cuda or mps available, if available, use one of them, otherwise use cpu\n",
    "\n",
    "device = torch.device(\"cpu\")\n",
    "\n",
    "if torch.cuda.is_available():\n",
    "    device = torch.device(\"cuda\")\n",
    "    print(\"using cuda\")\n",
    "elif torch.backends.mps.is_available():\n",
    "    device = torch.device(\"mps\")\n",
    "    os.environ[\"PYTORCH_MPS_HIGH_WATERMARK_RATIO\"] = (\n",
    "        \"1\"  # This is tracked as pytorch issue #98222\n",
    "    )\n",
    "    print(\"using mps\")\n",
    "else:\n",
    "    device = torch.device(\"cpu\")\n",
    "    print(\"using cpu\")\n"
   ]
  },
  {
   "cell_type": "markdown",
   "metadata": {},
   "source": [
    "### Data Loading"
   ]
  },
  {
   "cell_type": "code",
   "execution_count": 7,
   "metadata": {},
   "outputs": [
    {
     "name": "stdout",
     "output_type": "stream",
     "text": [
      "Train dataset length:  14262\n",
      "Validation dataset length:  750\n",
      "Test dataset length:  3762\n",
      "\n",
      "{\n",
      "    \"document\": [\n",
      "        \"Jakarta, CNN Indonesia - - Dokter Ryan Thamrin, yang terkenal lewat acara Dokter Oz Indonesia, meninggal dunia pada Jumat (4 / 8) dini hari. Dokter Lula Kamal yang merupakan selebriti sekaligus rekan kerja Ryan menyebut kawannya itu sudah sakit sejak setahun yang lalu. Lula menuturkan, sakit itu membuat Ryan mesti vakum dari semua kegiatannya, termasuk menjadi pembawa acara Dokter Oz Indonesia. Kondisi itu membuat Ryan harus kembali ke kampung halamannya di Pekanbaru, Riau untuk menjalani istirahat. \\\" Setahu saya dia orangnya sehat, tapi tahun lalu saya dengar dia sakit. (Karena) sakitnya, ia langsung pulang ke Pekanbaru, jadi kami yang mau jenguk juga susah. Barangkali mau istirahat, ya betul juga, kalau di Jakarta susah isirahatnya, \\\" kata Lula kepada CNNIndonesia.com, Jumat (4 / 8). Lula yang mengenal Ryan sejak sebelum aktif berkarier di televisi mengaku belum sempat membesuk Ryan lantaran lokasi yang jauh. Dia juga tak tahu penyakit apa yang diderita Ryan. \\\" Itu saya enggak tahu, belum sempat jenguk dan enggak selamanya bisa dijenguk juga. Enggak tahu berat sekali apa bagaimana, \\\" tutur Ryan. Walau sudah setahun menderita sakit, Lula tak mengetahui apa penyebab pasti kematian Dr Oz Indonesia itu. Meski demikian, ia mendengar beberapa kabar yang menyebut bahwa penyebab Ryan meninggal adalah karena jatuh di kamar mandi. \\u201c Saya tidak tahu, barangkali penyakit yang dulu sama yang sekarang berbeda, atau penyebab kematiannya beda dari penyakit sebelumnya. Kita kan enggak bisa mengambil kesimpulan, \\\" kata Lula. Ryan Thamrin terkenal sebagai dokter yang rutin membagikan tips dan informasi kesehatan lewat tayangan Dokter Oz Indonesia. Ryan menempuh Pendidikan Dokter pada tahun 2002 di Fakultas Kedokteran Universitas Gadjah Mada. Dia kemudian melanjutkan pendidikan Klinis Kesehatan Reproduksi dan Penyakit Menular Seksual di Mahachulalongkornrajavidyalaya University, Bangkok, Thailand pada 2004.\",\n",
      "        \"Selfie ialah salah satu tema terpanas di kalangan produsen smartphone, bahkan menjadi senjata andalan beberapa brand terkenal. Anda mungkin berpikir bahwa saat ini, pasar handset spesialis selfie sudah sangat sesak. Tapi Asus masih melihat adanya peluang besar menanti di sana. Dari data mereka, sebanyak 71 persen orang Indonesia setidaknya mengambil selfie atau wefie setiap minggu. Setelah mulai menyelami ranah swafoto dua tahun silam lewat ZanFone Selfie, sang produsen hardware asal Taiwan itu akhirnya membawa sepasang pewarisnya ke tanah air. Handset - handset ini merupakan anggota keluarga ZenFone generasi keempat dan keduanya sama-sama dibekali setup kamera ganda di depan. Mereka adalah Asus ZenFone 4 Selfie Pro ZD552KL dan ZenFone 4 Selfie ZD553KL. CEO Asus Jerry Shen menjelaskan bahwa sudah waktunya bagi Asus untuk memberikan penawaran baru buat penggemar self - portrait demi menunjukkan keseriusan mereka di segmen itu. Walaupun \\u00a0 telah tersedia banyak pilihan, \\u00a0 Asus berpendapat bahwa konsumen di Indonesia membutuhkan solusi yang \\u2018 lebih profesional\\u2019. Dua ZenFone Selfie anyar ini kabarnya diracik sedemikian rupa sebagai jawaban atas kekurangan yang ada di perangkat - perangkat kompetitor, khususnya pada aspek jangkauan lensa dan performa di kondisi low-light. ZenFone 4 Selfie Pro \\u00a0 merupakan produk swafoto pamungkas Asus. Tubuh berbahan aluminiumnya dibuat melalui teknik nano molding dan tiap lekukannya dibentuk secara presisi. Dipadu layar berlapis Corning Gorilla Glass 5 2.5D, saya akui penampilan handset ini sangat menawan, terutama \\u00a0 untuk varian berwarna merahnya. Sebagai jendela akses konten, smartphone \\u00a0  menghidangkan layar AMOLED 1080p berkepadatan 401 ppi seluas 5,5 - inci. Atraksi utama dari ZenFone 4 Selfie Pro tentu saja adalah kamera depannya. Di sana, Asus mencantumkan sistem DuoPixel 24Mp, berisi kombinasi sepasang sensor Sony Exmor RS IMX362 1,4 \\u00b5m 12 - megapixel dengan aperture f/1.8, ditambah sensor Omnivision 5670 1,12 \\u00b5m f/2.2 yang memiliki lensa wide-angle 120 derajat, sehingga kamera bisa merangkul objek dua kali lebih banyak \\u2013 memungkinkan Anda ber-selfie bersama kawan ataupun keluarga tanpa bantuan monopod. Selain itu, Asus melengkapi ZenFone 4 Selfie Pro dengan bundel perkakas khusus swafoto bernama SelfieMaster. Tool ini berisi fitur-fitur krusial semisal beautify (buat foto maupun video), serta kolase dan BeautyLive. Produsen juga tak lupa menyiapkan flash LED softlight \\u00a0 untuk membantu pengambilan foto di kondisi temaram. Kamera belakangnya sendiri mengandalkan sensor Sony Exmor IMX351 1 \\u00b5m 16 - megapixel berlensa 26 mm f/2.2. Ia dibantu sistem electronic image stabilization, phase detection autofocus, serta LED dual - tone flash. Di dalam, Asus mempersenjatai ZD552KL dengan chip Qualcomm Snapdragon 625 (ada prosesor octa-core Cortex - A53 2 GHz dan GPU Adreno 506), RAM sebesar 4 GB, ROM 64 GB, dan baterai 3.000 mAh. Smartphone berjalan di sistem operasi Android 7.1.1 Nougat plus interface ZenUI 4.0. ZD553KL ialah alternatif lebih terjangkau dari saudarinya di atas. Handset mengusung arahan desain serupa ZenFone 4 Selfie Pro, namun konstruksi tubuhnya terbuat dari plastik, dan layar IPS 5,5 - incinya menyajikan resolusi 720p. Tapi jangan cemas soal penampilannya, smartphone tetap memanfaatkan kaca 2.5D sehingga memberi kesan menyambung pada lekukan di sisi samping. Kapabilitas swafoto ZenFone 4 Selfie bersandar pada sensor Omnivision 20880 1 \\u00b5m 20 - megapixel f/2.0 dan sensor Omnivision 8856 1,12 \\u00b5m f/2.4 dengan lensa wide-angle 120 derajat. Sudut jangkauan jepretan dan sejumlah kelengkapannya tak berbeda dari Selfie 4 Pro. Anda kembali dihindangkan SelfieMaster, flash LED softlight, mode panorama, serta HDR. Ukuran megapixel kamera belakangnya setara ZenFone 4 Selfie Pro, namun jenis sensornya berbeda. Smartphone tersebut menggunakan Omnivision 16880 1 \\u00b5m 16Mp dengan aperture lensa f/2.2. Meski demikian, fitur-fitur penunjang fotografi seperti PDAF, EIS, dan flash LED juga tetap ada di sana. ZenFone 4 Selfie diotaki system-on-chip Qualcomm Snapdragon 430, berisi CPU octa-core Cortex - A53 1,4 GHz dan GPU Adreno 505. Handset menyimpan RAM 4 GB, memori internal 64 GB, lalu tenaganya dipasok oleh baterai 3.000 mAh non - removable di dalam. Satu keunikan yang membuat ZD553KL lebih \\u2018 unggul\\u2019 dari ZenFone 4 Selfie Pro adalah dukungan tiga slot kartu: dua untuk SIM, dan satu lagi buat microSD (storage dapat diekspansi \\u00a0 sampai \\u00a0 2 TB). Smartphone juga beroperasi di platform Android 7.1.1 Nougat dengan ZenUI 4.0. ZenFone 4 Selfie Pro ZD552KL dibanderol seharga Rp 5 juta, sedangkan ZenFone 4 Selfie ZD553KL dipatok di harga Rp 3,5 juta. Kedua perangkat sudah mulai dipasarkan mulai tanggal 25 November, dan sampai \\u00a0 tanggal 10 November nanti, paket penjualan turut dibundel bersama \\u2018 Gong Yoo Special Gift Box\\u2019 serta speaker Bluetooth khusus ZenFone 4 Selfie Pro \\u2013 selama persediaan masih ada. DailySocial.id adalah portal berita startup dan inovasi teknologi. Kamu bisa menjadi member komunitas startup dan inovasi DailySocial.id, mengunduh laporan riset dan statistik seputar teknologi secara cuma-cuma, dan mengikuti berita startup Indonesia dan gadget terbaru.\",\n",
      "        \"Jakarta, CNN Indonesia - - Dinas Pariwisata Provinsi Bengkulu kembali menggelar kegiatan Bimbingan Teknis (Bimtek) SDM Kepariwisataan dalam menyongson \\\" Visit 2020 Wonderful Bengkulu \\\". Kegiatan yang berlangsung pada 8 hingga 10 November kemarin tersebut sebagai bagian dari upaya Pemerintah Provinsi Bengkulu dalam Hadir sebagai pemateri kegiatan pada 8 - 10 November itu adalah Plt. Asdep Strategi Pemasaran Pariwisata Nusantara, Deputi Bidang Pengembangan Pemasaran Pariwisata Nusantara Hariyanto serta perwakilan dari Deputi Bidang Pengembangan Kelembagaan Kementerian Pariwisata, Faizal. Kepala Dinas Pariwisata Provinsi Bengkulu Yudi Satria mengatakan, kegiatan Bimtek diikuti 250 peserta yang terdiri dari aparatur Pemerintah Provinsi, ASN Kabupaten / Kota, Kelompok Sadar Wisata serta pihak terkait sektor pariwisata di Bengkulu. \\\" Kegiatan ini dimaksudkan untuk memberikan pembekalan kepada peserta di bidang kepariwisataan, \\\" ujar Yudi Satria. Ia mengatakan, Pemprov telah menetapkan pariwisata sebagai salah satu sektor yang akan dikembangkan dan akan menjadi sektor unggulan dalam meningkatkan pertumbuhan ekonomi daerah serta masyarakat. Hal itu, jelas Yudi, tidak lepas dari potensi pariwisata di Bengkulu yang besar memiliki kekayaan alam yang indah serta budaya yang tinggi. \\\" Karena itu pula Pemprov telah menetapkan program' Visit 2020 Wonderful Bengkulu \\\" yang akan menjadi tujuan besar pariwisata Bengkulu. Salah satu poin utamanya adalah upaya menghasilkan SDM pariwisata yang andal yang akan diwujudkan melalui Bimtek ini, \\\" ujar Yudi. Selain itu, dalam menunjang proses' Visit 2020 Wonderful Bengkulu', Pemprov juga telah menyiapkan 52 acara yang akan digelar dalam satu tahun ke depan yang bertujuan mengangkat potensi lokal ke kelas dunia. \\\" Salah satu yang dirancang secara besar adalah Sail Bengkulu yang akan menjual keindahan alam laut Bengkulu yang berhadapan langsung dengan Samudera Hindia, \\\" kata dia. Ajang lainnya tentunya Festival Tabot Muharam yang selalu menyedot minat ribuan wisatawan setiap tahun serta Festival Bumi Rafflesia. \\\" Semua kegiatan ini harus disinkronkan, penguatan SDM dan bagaimana promosi pemasarannya agar semua acara ini layak jual untuk wisatawan, \\\" ujarnya. Sementara Hariyanto dalam kesempatan itu menyampaikan materi tentang pengembangan SDM sektor pariwisata dan pengemasan serta pemasaran satu acara. Dalam paparanya ia menjelaskan, bahwa Bimtek penting untuk meningkatkan kompetensi SDM kepariwisataan sehingga mampu berperan dalam peningkatan pembangunan kepariwisataan. Selain itu ia menegaskan bahwa dalam pengembangan pariwisata, promosi juga hal yang harus diperhatikan. Misalnya penekanan pada mekanisme promosi pariwisata secara digital atau daring, penyelenggaraan acara juga harus terkurasi dengan baik sehingga memiliki daya tarik yang kuat. \\\" Bagaimana juga meningkatkan efektivitas partisipasi Dinas Pariwisata pada penyelenggaraan acara dan bagaimana cara memasarkan dan mempromosikan agar bisa dikenal dan menjadi daya tarik wisatawan, \\u201d terang Hariyanto. Deputi Pengembangan Pemasaran Pariwisata Nusantara, Esthy Reko Astuti mengatakan, Bimtek kali ini juga bertujuan memberi perspektif dan arah yang sama tentang program promosi Pariwisata di Bengkulu. \\\" Selain itu juga untuk memahami potensi destinasi - destinasi wisata di Bengkulu, \\\" ujar Esthy. Menteri Pariwisata Arief Yahya mengapresiasi kegiatan Bimtek sebagai salah satu upaya dan komitmen dari Pemerintah Provinsi Bengkulu dalam mewujudkan pariwisata sebagai salah satu sektor utama. Ia pun berkomitmen akan mendung Penprov dalam mewujudkan \\\" Visit 2020 Wonderful Bengkulu \\\". \\\" Obyek wisata andalan Bengkulu, Benteng Marlborough, Rumah Bung Karno, Pantai Panjang yang memiliki pasir putih yang indah dan bersih. Semuanya world class, ditambah dengan puluhan atraksi didalamnya, tinggal kita akan dukung dan promosikan' Bengkulu Visit' sehingga lebih mendunia, \\\" kata Arief (syahb)\",\n",
      "        \"Merdeka.com - Indonesia Corruption Watch (ICW) meminta Komisi Pemberantas   Korupsi (KPK) ikut memantau perkembangan atas meninggalnya saksi kunci kasus mega korupsi e - KTP, Johannes Marliem. Peneliti ICW Divisi Hukum dan Monitoring Peradila, Aradila Caesar mengatakan momentum meninggalnya saksi kunci tersebut menimbulkan kejanggalan dan tanda tanya besar. \\\" Orang meninggal kita kan tidak bisa prediksi itu bukan kuasa kita. Tapi kalau kita melihat momentum kan ada suatu kejanggalan. Kenapa momentum meninggalnya, saat kasus e - ktp sedang ditangani oleh KPK, \\\" katanya seusai konferensi pers di Kantor Sekeretariatan ICW,   Jakarta, Minggu(13 / 8). Pihak ICW meminta KPK turut menyelidiki kematian saksi kunci ini dan menjelaskan kepada masyarakat apakah ada keterkaitan dengan permasalahan korupsi e - KTP atau hal-hal lain dibalik kematian Johannes. \\\" Kita minta KPK dan juga bekerja sama dengan pihak otoritas untuk menyelidiki kematian dari saksi kunci tersebut dengan serius. Artinya nanti KPK harus bisa menjelaskan kepada publik kenapa kematiannya, \\\" pintanya. ICW berharap dengan kematian saksi kunci, tidak membuat efek negatif untuk permasalahan kasus e - KTP ini. \\\" Jangan sampai kematiannya berdampak negatif dalam konteks membongkar kasus e - ktp tersebut, \\\" pungkasnya. [ded]\",\n",
      "        \"Merdeka.com - Presiden Joko Widodo (Jokowi) memimpin upacara penurunan bendera di Halaman Istana Merdeka,   Jakarta. Usai prosesi penurunan bendera dilakukan, Jokowi kembali bagi-bagi sepeda kepada tamu undangan yang mengenakan pakaian adat terbaik. Berbeda dengan saat upacara pengibaran bendera, bagi-bagi sepeda kali ini diumumkan oleh Wakil Presiden Jusuf Kalla (JK). Hal berbeda juga terjadi bagi mereka yang menerima. Apabila sepeda diberikan ke pejabat negara mau pun keluarga, kali ini sepeda diberikan kepada masyarakat biasa. \\\" Seperti tadi pagi, sore ini juga panitia membentuk tim penilai untuk menilai siapa yang berbusana tradisional adat - adat daerah yang paling baik sore ini, \\\" kata JK. Kelima penerima sepeda di antaranya, Frans Maksim yang merupakan Kepala Suku Arfak, Papua, Ratna Dewi Budiono yang mengenakan pakaian adat Dayak, Yusak Rumambi yang mengenakan pakaian adat Sulawesi Utara, Teuku Johan Marzuki yang mengenakan pakaian adat Aceh. Terakhir, ada Sumahartarti yang mengenakan pakaian adat asal Bengkulu. \\\" Silakan semua datang ke panggung. Mendapat sepeda dari Bapak Presiden bisa langsung dipakai keliling - keliling nanti, \\\" ujarnya. Pada Upacara Pengibaran Bendera, lima orang menggunakan pakaian adat terbaik, yakni Menteri Hukum dan Hak Asasi Manusia (Menkum HAM) Yasonna Hamonangan Laoly dengan pakaian adat Nias, Ketua DPD RI Oesman Sapta Odang yang menggunakan pakaian adat Minang, dan Asisten Ajudan Presiden Syarif Muhammad Fidriansyah dengan pakaian adat Dayak, Kalimantan Barat. Dua orang lainnya adalah istri Kapolri Jenderal Pol Tito Karnavian, Tri Suswati yang mengenakan pakaian adat Papua, dan istri Wakil Ketua MPR Mahyudin, Agati Suli menggunakan baju adat Dayak. [bal]\"\n",
      "    ],\n",
      "    \"id\": [\n",
      "        \"1501893029-lula-kamal-dokter-ryan-thamrin-sakit-sejak-setahun\",\n",
      "        \"1509072914-dua-smartphone-zenfone-baru-tawarkan-solusi-bersel\",\n",
      "        \"1510613677-songsong-visit-2020-bengkulu-perkuat-sdm-pariwisat\",\n",
      "        \"1502706803-icw-ada-kejanggalan-atas-tewasnya-saksi-kunci-e-kt\",\n",
      "        \"1503039338-pembagian-sepeda-usai-upacara-penurunan-bendera\"\n",
      "    ],\n",
      "    \"summary\": [\n",
      "        \"Dokter Lula Kamal yang merupakan selebriti sekaligus rekan kerja Ryan Thamrin menyebut kawannya itu sudah sakit sejak setahun yang lalu. Lula menuturkan, sakit itu membuat Ryan mesti vakum dari semua kegiatannya, termasuk menjadi pembawa acara Dokter Oz Indonesia. Kondisi itu membuat Ryan harus kembali ke kampung halamannya di Pekanbaru, Riau untuk menjalani istirahat.\",\n",
      "        \"Asus memperkenalkan \\u00a0 ZenFone generasi keempat dan keduanya sama-sama dibekali setup kamera ganda di depan. Mereka adalah Asus ZenFone 4 Selfie Pro ZD552KL dan ZenFone 4 Selfie ZD553KL. Dua ZenFone Selfie anyar ini kabarnya diracik sedemikian rupa sebagai jawaban atas kekurangan yang ada di perangkat - perangkat kompetitor, khususnya pada aspek jangkauan lensa dan performa di kondisi low-light.\",\n",
      "        \"Dinas Pariwisata Provinsi Bengkulu kembali menggelar kegiatan Bimbingan Teknis (Bimtek) SDM Kepariwisataan dalam menyongson \\\" Visit 2020 Wonderful Bengkulu \\\" pada 8 - 10 November 2017 yang lalu. Kegiatan yang berlangsung pada 8 hingga 10 November kemarin tersebut sebagai bagian dari upaya Pemerintah Provinsi Bengkulu dalam memperkuat SDM Pariwisata untuk menyongsong \\\" Visit 2020 Wonderful Bengkulu \\\".\",\n",
      "        \"Indonesia Corruption Watch (ICW) meminta Komisi Pemberantas Korupsi \\u00a0 (KPK) ikut memantau perkembangan atas meninggalnya saksi kunci kasus mega \\u00a0 korupsi \\u00a0 e - KTP, Johannes Marliem dan menjelaskan kepada masyarakat apakah ada keterkaitan dengan permasalahan korupsi e - KTP atau hal-hal lain dibalik kematian Johannes. Peneliti ICW Divisi Hukum dan Monitoring Peradila, Aradila Caesar mengatakan momentum meninggalnya saksi kunci tersebut menimbulkan kejanggalan dan tanda tanya besar.\",\n",
      "        \"Jokowi memimpin upacara penurunan bendera. Usai prosesi tersebut, Jokowi bagi-bagi sepeda kepada tamu undangan yang mengenakan pakaian adat terbaik. Berbeda dengan saat upacara pengibaran bendera, bagi-bagi sepeda kali ini diumumkan oleh Wakil Presiden Jusuf Kalla (JK). Hal berbeda juga terjadi bagi mereka yang menerima. Apabila sepeda diberikan ke pejabat negara mau pun keluarga, kali ini sepeda diberikan kepada masyarakat biasa.\"\n",
      "    ]\n",
      "}\n",
      "\n"
     ]
    }
   ],
   "source": [
    "ds = load_dataset(\"./repo/SEACrowd/indosum/indosum.py\")\n",
    "\n",
    "# check the length of the dataset\n",
    "print(\"Train dataset length: \", len(ds[\"train\"]))\n",
    "print(\"Validation dataset length: \", len(ds[\"validation\"]))\n",
    "print(\"Test dataset length: \", len(ds[\"test\"]))\n",
    "print(\"\")\n",
    "\n",
    "# explore the first 5 data in the dataset\n",
    "print(json.dumps(ds[\"train\"][:5], indent=4))\n",
    "print(\"\")"
   ]
  },
  {
   "cell_type": "markdown",
   "metadata": {},
   "source": [
    "#### Dataset Pre-Processing\n",
    "\n",
    "Affected dataset splits: \n",
    "- train\n",
    "- validation\n",
    "\n",
    "We will perform the following pre-processing steps:\n",
    "1. case folding\n",
    "<!-- 2. remove special characters -->\n",
    "1. remove stopwords (Bahasa Indonesia)\n"
   ]
  },
  {
   "cell_type": "code",
   "execution_count": null,
   "metadata": {},
   "outputs": [
    {
     "name": "stdout",
     "output_type": "stream",
     "text": [
      "{\n",
      "    \"document\": [\n",
      "        \"jakarta, cnn indonesia - - dokter ryan thamrin, yang terkenal lewat acara dokter oz indonesia, meninggal dunia pada jumat (4 / 8) dini hari. dokter lula kamal yang merupakan selebriti sekaligus rekan kerja ryan menyebut kawannya itu sudah sakit sejak setahun yang lalu. lula menuturkan, sakit itu membuat ryan mesti vakum dari semua kegiatannya, termasuk menjadi pembawa acara dokter oz indonesia. kondisi itu membuat ryan harus kembali ke kampung halamannya di pekanbaru, riau untuk menjalani istirahat. \\\" setahu saya dia orangnya sehat, tapi tahun lalu saya dengar dia sakit. (karena) sakitnya, ia langsung pulang ke pekanbaru, jadi kami yang mau jenguk juga susah. barangkali mau istirahat, ya betul juga, kalau di jakarta susah isirahatnya, \\\" kata lula kepada cnnindonesia.com, jumat (4 / 8). lula yang mengenal ryan sejak sebelum aktif berkarier di televisi mengaku belum sempat membesuk ryan lantaran lokasi yang jauh. dia juga tak tahu penyakit apa yang diderita ryan. \\\" itu saya enggak tahu, belum sempat jenguk dan enggak selamanya bisa dijenguk juga. enggak tahu berat sekali apa bagaimana, \\\" tutur ryan. walau sudah setahun menderita sakit, lula tak mengetahui apa penyebab pasti kematian dr oz indonesia itu. meski demikian, ia mendengar beberapa kabar yang menyebut bahwa penyebab ryan meninggal adalah karena jatuh di kamar mandi. \\u201c saya tidak tahu, barangkali penyakit yang dulu sama yang sekarang berbeda, atau penyebab kematiannya beda dari penyakit sebelumnya. kita kan enggak bisa mengambil kesimpulan, \\\" kata lula. ryan thamrin terkenal sebagai dokter yang rutin membagikan tips dan informasi kesehatan lewat tayangan dokter oz indonesia. ryan menempuh pendidikan dokter pada tahun 2002 di fakultas kedokteran universitas gadjah mada. dia kemudian melanjutkan pendidikan klinis kesehatan reproduksi dan penyakit menular seksual di mahachulalongkornrajavidyalaya university, bangkok, thailand pada 2004.\",\n",
      "        \"selfie ialah salah satu tema terpanas di kalangan produsen smartphone, bahkan menjadi senjata andalan beberapa brand terkenal. anda mungkin berpikir bahwa saat ini, pasar handset spesialis selfie sudah sangat sesak. tapi asus masih melihat adanya peluang besar menanti di sana. dari data mereka, sebanyak 71 persen orang indonesia setidaknya mengambil selfie atau wefie setiap minggu. setelah mulai menyelami ranah swafoto dua tahun silam lewat zanfone selfie, sang produsen hardware asal taiwan itu akhirnya membawa sepasang pewarisnya ke tanah air. handset - handset ini merupakan anggota keluarga zenfone generasi keempat dan keduanya sama-sama dibekali setup kamera ganda di depan. mereka adalah asus zenfone 4 selfie pro zd552kl dan zenfone 4 selfie zd553kl. ceo asus jerry shen menjelaskan bahwa sudah waktunya bagi asus untuk memberikan penawaran baru buat penggemar self - portrait demi menunjukkan keseriusan mereka di segmen itu. walaupun \\u00a0 telah tersedia banyak pilihan, \\u00a0 asus berpendapat bahwa konsumen di indonesia membutuhkan solusi yang \\u2018 lebih profesional\\u2019. dua zenfone selfie anyar ini kabarnya diracik sedemikian rupa sebagai jawaban atas kekurangan yang ada di perangkat - perangkat kompetitor, khususnya pada aspek jangkauan lensa dan performa di kondisi low-light. zenfone 4 selfie pro \\u00a0 merupakan produk swafoto pamungkas asus. tubuh berbahan aluminiumnya dibuat melalui teknik nano molding dan tiap lekukannya dibentuk secara presisi. dipadu layar berlapis corning gorilla glass 5 2.5d, saya akui penampilan handset ini sangat menawan, terutama \\u00a0 untuk varian berwarna merahnya. sebagai jendela akses konten, smartphone \\u00a0  menghidangkan layar amoled 1080p berkepadatan 401 ppi seluas 5,5 - inci. atraksi utama dari zenfone 4 selfie pro tentu saja adalah kamera depannya. di sana, asus mencantumkan sistem duopixel 24mp, berisi kombinasi sepasang sensor sony exmor rs imx362 1,4 \\u00b5m 12 - megapixel dengan aperture f/1.8, ditambah sensor omnivision 5670 1,12 \\u00b5m f/2.2 yang memiliki lensa wide-angle 120 derajat, sehingga kamera bisa merangkul objek dua kali lebih banyak \\u2013 memungkinkan anda ber-selfie bersama kawan ataupun keluarga tanpa bantuan monopod. selain itu, asus melengkapi zenfone 4 selfie pro dengan bundel perkakas khusus swafoto bernama selfiemaster. tool ini berisi fitur-fitur krusial semisal beautify (buat foto maupun video), serta kolase dan beautylive. produsen juga tak lupa menyiapkan flash led softlight \\u00a0 untuk membantu pengambilan foto di kondisi temaram. kamera belakangnya sendiri mengandalkan sensor sony exmor imx351 1 \\u00b5m 16 - megapixel berlensa 26 mm f/2.2. ia dibantu sistem electronic image stabilization, phase detection autofocus, serta led dual - tone flash. di dalam, asus mempersenjatai zd552kl dengan chip qualcomm snapdragon 625 (ada prosesor octa-core cortex - a53 2 ghz dan gpu adreno 506), ram sebesar 4 gb, rom 64 gb, dan baterai 3.000 mah. smartphone berjalan di sistem operasi android 7.1.1 nougat plus interface zenui 4.0. zd553kl ialah alternatif lebih terjangkau dari saudarinya di atas. handset mengusung arahan desain serupa zenfone 4 selfie pro, namun konstruksi tubuhnya terbuat dari plastik, dan layar ips 5,5 - incinya menyajikan resolusi 720p. tapi jangan cemas soal penampilannya, smartphone tetap memanfaatkan kaca 2.5d sehingga memberi kesan menyambung pada lekukan di sisi samping. kapabilitas swafoto zenfone 4 selfie bersandar pada sensor omnivision 20880 1 \\u00b5m 20 - megapixel f/2.0 dan sensor omnivision 8856 1,12 \\u00b5m f/2.4 dengan lensa wide-angle 120 derajat. sudut jangkauan jepretan dan sejumlah kelengkapannya tak berbeda dari selfie 4 pro. anda kembali dihindangkan selfiemaster, flash led softlight, mode panorama, serta hdr. ukuran megapixel kamera belakangnya setara zenfone 4 selfie pro, namun jenis sensornya berbeda. smartphone tersebut menggunakan omnivision 16880 1 \\u00b5m 16mp dengan aperture lensa f/2.2. meski demikian, fitur-fitur penunjang fotografi seperti pdaf, eis, dan flash led juga tetap ada di sana. zenfone 4 selfie diotaki system-on-chip qualcomm snapdragon 430, berisi cpu octa-core cortex - a53 1,4 ghz dan gpu adreno 505. handset menyimpan ram 4 gb, memori internal 64 gb, lalu tenaganya dipasok oleh baterai 3.000 mah non - removable di dalam. satu keunikan yang membuat zd553kl lebih \\u2018 unggul\\u2019 dari zenfone 4 selfie pro adalah dukungan tiga slot kartu: dua untuk sim, dan satu lagi buat microsd (storage dapat diekspansi \\u00a0 sampai \\u00a0 2 tb). smartphone juga beroperasi di platform android 7.1.1 nougat dengan zenui 4.0. zenfone 4 selfie pro zd552kl dibanderol seharga rp 5 juta, sedangkan zenfone 4 selfie zd553kl dipatok di harga rp 3,5 juta. kedua perangkat sudah mulai dipasarkan mulai tanggal 25 november, dan sampai \\u00a0 tanggal 10 november nanti, paket penjualan turut dibundel bersama \\u2018 gong yoo special gift box\\u2019 serta speaker bluetooth khusus zenfone 4 selfie pro \\u2013 selama persediaan masih ada. dailysocial.id adalah portal berita startup dan inovasi teknologi. kamu bisa menjadi member komunitas startup dan inovasi dailysocial.id, mengunduh laporan riset dan statistik seputar teknologi secara cuma-cuma, dan mengikuti berita startup indonesia dan gadget terbaru.\",\n",
      "        \"jakarta, cnn indonesia - - dinas pariwisata provinsi bengkulu kembali menggelar kegiatan bimbingan teknis (bimtek) sdm kepariwisataan dalam menyongson \\\" visit 2020 wonderful bengkulu \\\". kegiatan yang berlangsung pada 8 hingga 10 november kemarin tersebut sebagai bagian dari upaya pemerintah provinsi bengkulu dalam hadir sebagai pemateri kegiatan pada 8 - 10 november itu adalah plt. asdep strategi pemasaran pariwisata nusantara, deputi bidang pengembangan pemasaran pariwisata nusantara hariyanto serta perwakilan dari deputi bidang pengembangan kelembagaan kementerian pariwisata, faizal. kepala dinas pariwisata provinsi bengkulu yudi satria mengatakan, kegiatan bimtek diikuti 250 peserta yang terdiri dari aparatur pemerintah provinsi, asn kabupaten / kota, kelompok sadar wisata serta pihak terkait sektor pariwisata di bengkulu. \\\" kegiatan ini dimaksudkan untuk memberikan pembekalan kepada peserta di bidang kepariwisataan, \\\" ujar yudi satria. ia mengatakan, pemprov telah menetapkan pariwisata sebagai salah satu sektor yang akan dikembangkan dan akan menjadi sektor unggulan dalam meningkatkan pertumbuhan ekonomi daerah serta masyarakat. hal itu, jelas yudi, tidak lepas dari potensi pariwisata di bengkulu yang besar memiliki kekayaan alam yang indah serta budaya yang tinggi. \\\" karena itu pula pemprov telah menetapkan program' visit 2020 wonderful bengkulu \\\" yang akan menjadi tujuan besar pariwisata bengkulu. salah satu poin utamanya adalah upaya menghasilkan sdm pariwisata yang andal yang akan diwujudkan melalui bimtek ini, \\\" ujar yudi. selain itu, dalam menunjang proses' visit 2020 wonderful bengkulu', pemprov juga telah menyiapkan 52 acara yang akan digelar dalam satu tahun ke depan yang bertujuan mengangkat potensi lokal ke kelas dunia. \\\" salah satu yang dirancang secara besar adalah sail bengkulu yang akan menjual keindahan alam laut bengkulu yang berhadapan langsung dengan samudera hindia, \\\" kata dia. ajang lainnya tentunya festival tabot muharam yang selalu menyedot minat ribuan wisatawan setiap tahun serta festival bumi rafflesia. \\\" semua kegiatan ini harus disinkronkan, penguatan sdm dan bagaimana promosi pemasarannya agar semua acara ini layak jual untuk wisatawan, \\\" ujarnya. sementara hariyanto dalam kesempatan itu menyampaikan materi tentang pengembangan sdm sektor pariwisata dan pengemasan serta pemasaran satu acara. dalam paparanya ia menjelaskan, bahwa bimtek penting untuk meningkatkan kompetensi sdm kepariwisataan sehingga mampu berperan dalam peningkatan pembangunan kepariwisataan. selain itu ia menegaskan bahwa dalam pengembangan pariwisata, promosi juga hal yang harus diperhatikan. misalnya penekanan pada mekanisme promosi pariwisata secara digital atau daring, penyelenggaraan acara juga harus terkurasi dengan baik sehingga memiliki daya tarik yang kuat. \\\" bagaimana juga meningkatkan efektivitas partisipasi dinas pariwisata pada penyelenggaraan acara dan bagaimana cara memasarkan dan mempromosikan agar bisa dikenal dan menjadi daya tarik wisatawan, \\u201d terang hariyanto. deputi pengembangan pemasaran pariwisata nusantara, esthy reko astuti mengatakan, bimtek kali ini juga bertujuan memberi perspektif dan arah yang sama tentang program promosi pariwisata di bengkulu. \\\" selain itu juga untuk memahami potensi destinasi - destinasi wisata di bengkulu, \\\" ujar esthy. menteri pariwisata arief yahya mengapresiasi kegiatan bimtek sebagai salah satu upaya dan komitmen dari pemerintah provinsi bengkulu dalam mewujudkan pariwisata sebagai salah satu sektor utama. ia pun berkomitmen akan mendung penprov dalam mewujudkan \\\" visit 2020 wonderful bengkulu \\\". \\\" obyek wisata andalan bengkulu, benteng marlborough, rumah bung karno, pantai panjang yang memiliki pasir putih yang indah dan bersih. semuanya world class, ditambah dengan puluhan atraksi didalamnya, tinggal kita akan dukung dan promosikan' bengkulu visit' sehingga lebih mendunia, \\\" kata arief (syahb)\",\n",
      "        \"merdeka.com - indonesia corruption watch (icw) meminta komisi pemberantas   korupsi (kpk) ikut memantau perkembangan atas meninggalnya saksi kunci kasus mega korupsi e - ktp, johannes marliem. peneliti icw divisi hukum dan monitoring peradila, aradila caesar mengatakan momentum meninggalnya saksi kunci tersebut menimbulkan kejanggalan dan tanda tanya besar. \\\" orang meninggal kita kan tidak bisa prediksi itu bukan kuasa kita. tapi kalau kita melihat momentum kan ada suatu kejanggalan. kenapa momentum meninggalnya, saat kasus e - ktp sedang ditangani oleh kpk, \\\" katanya seusai konferensi pers di kantor sekeretariatan icw,   jakarta, minggu(13 / 8). pihak icw meminta kpk turut menyelidiki kematian saksi kunci ini dan menjelaskan kepada masyarakat apakah ada keterkaitan dengan permasalahan korupsi e - ktp atau hal-hal lain dibalik kematian johannes. \\\" kita minta kpk dan juga bekerja sama dengan pihak otoritas untuk menyelidiki kematian dari saksi kunci tersebut dengan serius. artinya nanti kpk harus bisa menjelaskan kepada publik kenapa kematiannya, \\\" pintanya. icw berharap dengan kematian saksi kunci, tidak membuat efek negatif untuk permasalahan kasus e - ktp ini. \\\" jangan sampai kematiannya berdampak negatif dalam konteks membongkar kasus e - ktp tersebut, \\\" pungkasnya. [ded]\",\n",
      "        \"merdeka.com - presiden joko widodo (jokowi) memimpin upacara penurunan bendera di halaman istana merdeka,   jakarta. usai prosesi penurunan bendera dilakukan, jokowi kembali bagi-bagi sepeda kepada tamu undangan yang mengenakan pakaian adat terbaik. berbeda dengan saat upacara pengibaran bendera, bagi-bagi sepeda kali ini diumumkan oleh wakil presiden jusuf kalla (jk). hal berbeda juga terjadi bagi mereka yang menerima. apabila sepeda diberikan ke pejabat negara mau pun keluarga, kali ini sepeda diberikan kepada masyarakat biasa. \\\" seperti tadi pagi, sore ini juga panitia membentuk tim penilai untuk menilai siapa yang berbusana tradisional adat - adat daerah yang paling baik sore ini, \\\" kata jk. kelima penerima sepeda di antaranya, frans maksim yang merupakan kepala suku arfak, papua, ratna dewi budiono yang mengenakan pakaian adat dayak, yusak rumambi yang mengenakan pakaian adat sulawesi utara, teuku johan marzuki yang mengenakan pakaian adat aceh. terakhir, ada sumahartarti yang mengenakan pakaian adat asal bengkulu. \\\" silakan semua datang ke panggung. mendapat sepeda dari bapak presiden bisa langsung dipakai keliling - keliling nanti, \\\" ujarnya. pada upacara pengibaran bendera, lima orang menggunakan pakaian adat terbaik, yakni menteri hukum dan hak asasi manusia (menkum ham) yasonna hamonangan laoly dengan pakaian adat nias, ketua dpd ri oesman sapta odang yang menggunakan pakaian adat minang, dan asisten ajudan presiden syarif muhammad fidriansyah dengan pakaian adat dayak, kalimantan barat. dua orang lainnya adalah istri kapolri jenderal pol tito karnavian, tri suswati yang mengenakan pakaian adat papua, dan istri wakil ketua mpr mahyudin, agati suli menggunakan baju adat dayak. [bal]\"\n",
      "    ],\n",
      "    \"id\": [\n",
      "        \"1501893029-lula-kamal-dokter-ryan-thamrin-sakit-sejak-setahun\",\n",
      "        \"1509072914-dua-smartphone-zenfone-baru-tawarkan-solusi-bersel\",\n",
      "        \"1510613677-songsong-visit-2020-bengkulu-perkuat-sdm-pariwisat\",\n",
      "        \"1502706803-icw-ada-kejanggalan-atas-tewasnya-saksi-kunci-e-kt\",\n",
      "        \"1503039338-pembagian-sepeda-usai-upacara-penurunan-bendera\"\n",
      "    ],\n",
      "    \"summary\": [\n",
      "        \"dokter lula kamal yang merupakan selebriti sekaligus rekan kerja ryan thamrin menyebut kawannya itu sudah sakit sejak setahun yang lalu. lula menuturkan, sakit itu membuat ryan mesti vakum dari semua kegiatannya, termasuk menjadi pembawa acara dokter oz indonesia. kondisi itu membuat ryan harus kembali ke kampung halamannya di pekanbaru, riau untuk menjalani istirahat.\",\n",
      "        \"asus memperkenalkan \\u00a0 zenfone generasi keempat dan keduanya sama-sama dibekali setup kamera ganda di depan. mereka adalah asus zenfone 4 selfie pro zd552kl dan zenfone 4 selfie zd553kl. dua zenfone selfie anyar ini kabarnya diracik sedemikian rupa sebagai jawaban atas kekurangan yang ada di perangkat - perangkat kompetitor, khususnya pada aspek jangkauan lensa dan performa di kondisi low-light.\",\n",
      "        \"dinas pariwisata provinsi bengkulu kembali menggelar kegiatan bimbingan teknis (bimtek) sdm kepariwisataan dalam menyongson \\\" visit 2020 wonderful bengkulu \\\" pada 8 - 10 november 2017 yang lalu. kegiatan yang berlangsung pada 8 hingga 10 november kemarin tersebut sebagai bagian dari upaya pemerintah provinsi bengkulu dalam memperkuat sdm pariwisata untuk menyongsong \\\" visit 2020 wonderful bengkulu \\\".\",\n",
      "        \"indonesia corruption watch (icw) meminta komisi pemberantas korupsi \\u00a0 (kpk) ikut memantau perkembangan atas meninggalnya saksi kunci kasus mega \\u00a0 korupsi \\u00a0 e - ktp, johannes marliem dan menjelaskan kepada masyarakat apakah ada keterkaitan dengan permasalahan korupsi e - ktp atau hal-hal lain dibalik kematian johannes. peneliti icw divisi hukum dan monitoring peradila, aradila caesar mengatakan momentum meninggalnya saksi kunci tersebut menimbulkan kejanggalan dan tanda tanya besar.\",\n",
      "        \"jokowi memimpin upacara penurunan bendera. usai prosesi tersebut, jokowi bagi-bagi sepeda kepada tamu undangan yang mengenakan pakaian adat terbaik. berbeda dengan saat upacara pengibaran bendera, bagi-bagi sepeda kali ini diumumkan oleh wakil presiden jusuf kalla (jk). hal berbeda juga terjadi bagi mereka yang menerima. apabila sepeda diberikan ke pejabat negara mau pun keluarga, kali ini sepeda diberikan kepada masyarakat biasa.\"\n",
      "    ]\n",
      "}\n"
     ]
    }
   ],
   "source": [
    "# Lowercase the text\n",
    "ds[\"train\"] = ds[\"train\"].map(lambda x: {\"document\": x[\"document\"].lower(), \"summary\": x[\"summary\"].lower()})\n",
    "ds[\"validation\"] = ds[\"validation\"].map(lambda x: {\"document\": x[\"document\"].lower(), \"summary\": x[\"summary\"].lower()})\n",
    "\n",
    "# remove special characters\n",
    "\n",
    "# remove stopwords\n",
    "stopwords = StopWordRemoverFactory().get_stop_words()\n",
    "ds[\"train\"] = ds[\"train\"].map(lambda x: {\"document\": ' '.join([word for word in x[\"document\"].split() if word not in stopwords])})\n",
    "\n",
    "print(json.dumps(ds[\"train\"][:5], indent=4))"
   ]
  }
 ],
 "metadata": {
  "kernelspec": {
   "display_name": ".venv",
   "language": "python",
   "name": "python3"
  },
  "language_info": {
   "codemirror_mode": {
    "name": "ipython",
    "version": 3
   },
   "file_extension": ".py",
   "mimetype": "text/x-python",
   "name": "python",
   "nbconvert_exporter": "python",
   "pygments_lexer": "ipython3",
   "version": "3.9.6"
  }
 },
 "nbformat": 4,
 "nbformat_minor": 2
}
